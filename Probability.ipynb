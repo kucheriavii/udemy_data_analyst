{
 "cells": [
  {
   "cell_type": "markdown",
   "id": "bbe57ee8-888b-4631-a194-4e510e38edf0",
   "metadata": {},
   "source": [
    "Probability is the likehood of ab event occurring. <br />\n",
    "$ P(X) = \\frac{Preferred outcomes}{Saple Space} $"
   ]
  },
  {
   "cell_type": "markdown",
   "id": "7f1c68d0-9d35-4064-b8a1-e4fd568b284e",
   "metadata": {},
   "source": [
    "### Characteristics of complements:\n",
    "- Can never occur simultaneously.\n",
    "- Add up to the sample space. (A + A’ = Sample space)\n",
    "- Their probabilities add up to 1. (P(A) + P(A’) = 1\n",
    "- The complement of a complement is the original event. ((A’)’ = A)\n",
    "\n",
    "## Example\n",
    " - Assume event A represents drawing a spade, so P(A) = 0.25.\n",
    " - Then, A’ represents not drawing a spade, so drawing a club, a diamond or a heart. P(A’) = 1 – P(A), so P(A’) = 0.75.\n"
   ]
  },
  {
   "cell_type": "code",
   "execution_count": null,
   "id": "e1d193c4-0f3e-447c-a533-4a7d94b30090",
   "metadata": {},
   "outputs": [],
   "source": []
  }
 ],
 "metadata": {
  "kernelspec": {
   "display_name": "Python 3 (ipykernel)",
   "language": "python",
   "name": "python3"
  },
  "language_info": {
   "codemirror_mode": {
    "name": "ipython",
    "version": 3
   },
   "file_extension": ".py",
   "mimetype": "text/x-python",
   "name": "python",
   "nbconvert_exporter": "python",
   "pygments_lexer": "ipython3",
   "version": "3.12.7"
  }
 },
 "nbformat": 4,
 "nbformat_minor": 5
}
