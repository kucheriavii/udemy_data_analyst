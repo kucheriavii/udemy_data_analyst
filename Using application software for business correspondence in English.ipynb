{
 "cells": [
  {
   "cell_type": "markdown",
   "id": "665edce7-6d6f-4b84-8f41-2bff83889bf2",
   "metadata": {},
   "source": [
    "https://www.ef.edu/epi/regions/europe/ukraine/"
   ]
  },
  {
   "cell_type": "code",
   "execution_count": 6,
   "id": "717fedfe-464a-45d3-a7a9-febe1e9e8ee8",
   "metadata": {},
   "outputs": [],
   "source": [
    "import numpy as np\n",
    "import pandas as pd"
   ]
  },
  {
   "cell_type": "code",
   "execution_count": 13,
   "id": "d25b04c9-3a59-4d99-97f7-a664692ed9e3",
   "metadata": {},
   "outputs": [
    {
     "data": {
      "text/html": [
       "<div>\n",
       "<style scoped>\n",
       "    .dataframe tbody tr th:only-of-type {\n",
       "        vertical-align: middle;\n",
       "    }\n",
       "\n",
       "    .dataframe tbody tr th {\n",
       "        vertical-align: top;\n",
       "    }\n",
       "\n",
       "    .dataframe thead th {\n",
       "        text-align: right;\n",
       "    }\n",
       "</style>\n",
       "<table border=\"1\" class=\"dataframe\">\n",
       "  <thead>\n",
       "    <tr style=\"text-align: right;\">\n",
       "      <th></th>\n",
       "      <th>years</th>\n",
       "      <th>users</th>\n",
       "    </tr>\n",
       "  </thead>\n",
       "  <tbody>\n",
       "    <tr>\n",
       "      <th>0</th>\n",
       "      <td>2018</td>\n",
       "      <td>10</td>\n",
       "    </tr>\n",
       "    <tr>\n",
       "      <th>1</th>\n",
       "      <td>2019</td>\n",
       "      <td>15</td>\n",
       "    </tr>\n",
       "    <tr>\n",
       "      <th>2</th>\n",
       "      <td>2020</td>\n",
       "      <td>20</td>\n",
       "    </tr>\n",
       "    <tr>\n",
       "      <th>3</th>\n",
       "      <td>2021</td>\n",
       "      <td>25</td>\n",
       "    </tr>\n",
       "    <tr>\n",
       "      <th>4</th>\n",
       "      <td>2022</td>\n",
       "      <td>30</td>\n",
       "    </tr>\n",
       "  </tbody>\n",
       "</table>\n",
       "</div>"
      ],
      "text/plain": [
       "   years  users\n",
       "0   2018     10\n",
       "1   2019     15\n",
       "2   2020     20\n",
       "3   2021     25\n",
       "4   2022     30"
      ]
     },
     "execution_count": 13,
     "metadata": {},
     "output_type": "execute_result"
    }
   ],
   "source": [
    "data = pd.DataFrame({\"years\":[2018,2019,2020,2021,2022], 'users':[10,15,20,25,30]})\n",
    "data"
   ]
  },
  {
   "cell_type": "markdown",
   "id": "4ab492aa-5e50-4ce1-b65d-99243dcdf7d4",
   "metadata": {},
   "source": [
    "<img src=\"https://media.beehiiv.com/cdn-cgi/image/fit=scale-down,format=auto,onerror=redirect,quality=80/uploads/asset/file/ede4aa4c-0d77-4baf-9623-ad4177cc0463/Grammarly_s_User_Growth.png?t=1715260690\" alt=\"graph\" width=\"100%\"/>"
   ]
  },
  {
   "cell_type": "markdown",
   "id": "64be7afb-d9a0-407c-979f-518e54ff52f1",
   "metadata": {},
   "source": [
    "<img src=\"https://www.mksguide.com/wp-content/uploads/2023/07/Grammarly-Daily-Active-Users-2013-to-2023.webp\" alt=\"graph\" width=\"100%\"/>"
   ]
  }
 ],
 "metadata": {
  "kernelspec": {
   "display_name": "Python 3 (ipykernel)",
   "language": "python",
   "name": "python3"
  },
  "language_info": {
   "codemirror_mode": {
    "name": "ipython",
    "version": 3
   },
   "file_extension": ".py",
   "mimetype": "text/x-python",
   "name": "python",
   "nbconvert_exporter": "python",
   "pygments_lexer": "ipython3",
   "version": "3.11.7"
  }
 },
 "nbformat": 4,
 "nbformat_minor": 5
}
